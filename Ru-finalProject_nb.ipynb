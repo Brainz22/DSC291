{
 "cells": [
  {
   "cell_type": "code",
   "execution_count": 14,
   "metadata": {},
   "outputs": [],
   "source": [
    "import matplotlib.pyplot as plt\n",
    "import numpy as np\n",
    "import pandas as pd"
   ]
  },
  {
   "cell_type": "markdown",
   "metadata": {},
   "source": [
    "# Step 1"
   ]
  },
  {
   "cell_type": "code",
   "execution_count": 15,
   "metadata": {},
   "outputs": [],
   "source": [
    "data_A = pd.read_csv(\"Final_Project/datasets/DetectorA.csv\")\n",
    "data_B = pd.read_csv(\"Final_Project/datasets/DetectorB.csv\")\n",
    "data_C = pd.read_csv(\"Final_Project/datasets/DetectorC.csv\")\n",
    "data_Target = pd.read_csv(\"Final_Project/datasets/DetectorTarget.csv\")\n"
   ]
  },
  {
   "cell_type": "markdown",
   "metadata": {},
   "source": [
    "# Step 2"
   ]
  },
  {
   "cell_type": "code",
   "execution_count": 19,
   "metadata": {},
   "outputs": [
    {
     "data": {
      "text/plain": [
       "Index(['id', 'cnn_score', 'energy'], dtype='object')"
      ]
     },
     "execution_count": 19,
     "metadata": {},
     "output_type": "execute_result"
    }
   ],
   "source": [
    "data_A.keys()"
   ]
  },
  {
   "cell_type": "code",
   "execution_count": 20,
   "metadata": {},
   "outputs": [],
   "source": [
    "energy_A = data_A.values[:, 2]"
   ]
  },
  {
   "cell_type": "code",
   "execution_count": 21,
   "metadata": {},
   "outputs": [],
   "source": [
    "cut_energy_A = energy_A[data_A.values[:,1]>0.15]"
   ]
  },
  {
   "cell_type": "code",
   "execution_count": 44,
   "metadata": {},
   "outputs": [
    {
     "data": {
      "image/png": "[encoded data removed]",
      "text/plain": [
       "<Figure size 640x480 with 1 Axes>"
      ]
     },
     "metadata": {},
     "output_type": "display_data"
    }
   ],
   "source": [
    "total_SS_counts, total_SS_bins, total_SS_width = plt.hist(energy_A, bins=60, log=\"log\")\n",
    "SS_counts, SS_bins, SS_bwidth =plt.hist(cut_energy_A, bins=60, log=\"log\")"
   ]
  },
  {
   "cell_type": "code",
   "execution_count": 37,
   "metadata": {},
   "outputs": [],
   "source": [
    "A_peak_mask_cut = (cut_energy_A >= 1590.)& (cut_energy_A <= 1595.)\n",
    "A_base_mask_cut = (cut_energy_A > 1585.)& (cut_energy_A < 1590.)\n",
    "A_peak_mask = (energy_A >= 1590.)& (energy_A <= 1595.)\n",
    "A_base_mask = (energy_A > 1585.)& (energy_A < 1590.)"
   ]
  },
  {
   "cell_type": "code",
   "execution_count": 38,
   "metadata": {},
   "outputs": [],
   "source": [
    "tau = (1595. - 1590.)/(1590. - 1585.)"
   ]
  },
  {
   "cell_type": "code",
   "execution_count": 41,
   "metadata": {},
   "outputs": [
    {
     "data": {
      "text/plain": [
       "(329, 46, 454, 86)"
      ]
     },
     "execution_count": 41,
     "metadata": {},
     "output_type": "execute_result"
    }
   ],
   "source": [
    "len(cut_energy_A[A_peak_mask_cut]), len(cut_energy_A[A_base_mask_cut]), len(energy_A[A_peak_mask]), len(energy_A[A_base_mask])"
   ]
  },
  {
   "cell_type": "code",
   "execution_count": 42,
   "metadata": {},
   "outputs": [],
   "source": [
    "eff = (len(cut_energy_A[A_peak_mask_cut]) - tau*len(cut_energy_A[A_base_mask_cut]))/ \\\n",
    "    (len(energy_A[A_peak_mask]) - tau*len(energy_A[A_base_mask]))\n",
    "            "
   ]
  },
  {
   "cell_type": "code",
   "execution_count": 46,
   "metadata": {},
   "outputs": [
    {
     "name": "stdout",
     "output_type": "stream",
     "text": [
      "The true positive rate with the classification score 0.15  is 76.9%\n"
     ]
    }
   ],
   "source": [
    "print(f'The true positive rate with the classification score {0.15}  is {np.round(eff,3)*100}%')"
   ]
  },
  {
   "cell_type": "markdown",
   "metadata": {},
   "source": [
    "# Step 3"
   ]
  },
  {
   "cell_type": "markdown",
   "metadata": {},
   "source": [
    "We need same cut as step two. Apply cut to actual events, not histrograms. Find efficiency same way and that's our false positive."
   ]
  },
  {
   "cell_type": "code",
   "execution_count": 9,
   "metadata": {},
   "outputs": [
    {
     "data": {
      "text/plain": [
       "Index(['id', 'cnn_score', 'energy'], dtype='object')"
      ]
     },
     "execution_count": 9,
     "metadata": {},
     "output_type": "execute_result"
    }
   ],
   "source": [
    "data_B.keys()"
   ]
  },
  {
   "cell_type": "code",
   "execution_count": 47,
   "metadata": {},
   "outputs": [],
   "source": [
    "energy_B = data_B.values[:, 2]"
   ]
  },
  {
   "cell_type": "code",
   "execution_count": 48,
   "metadata": {},
   "outputs": [],
   "source": [
    "cut_energy_B = energy_B[data_B.values[:,1]> 0.15]"
   ]
  },
  {
   "cell_type": "code",
   "execution_count": 49,
   "metadata": {},
   "outputs": [
    {
     "data": {
      "image/png": "[encoded data removed]",
      "text/plain": [
       "<Figure size 640x480 with 1 Axes>"
      ]
     },
     "metadata": {},
     "output_type": "display_data"
    }
   ],
   "source": [
    "total_MS_counts, total_MS_bins, total_MS_width = plt.hist(energy_B, bins=60, log=\"log\")\n",
    "MS_counts, MS_bins, MS_bwidth =plt.hist(cut_energy_B, bins=60, log=\"log\")"
   ]
  },
  {
   "cell_type": "code",
   "execution_count": 61,
   "metadata": {},
   "outputs": [],
   "source": [
    "B_peak_mask_cut = (cut_energy_B >= 2101.)& (cut_energy_B <= 2105.)\n",
    "Bleft_base_mask_cut = (cut_energy_B > 2016.)& (cut_energy_B < 2101.)\n",
    "Bright_base_mask_cut = (cut_energy_B > 2105.)& (cut_energy_B < 2110.)"
   ]
  },
  {
   "cell_type": "code",
   "execution_count": 58,
   "metadata": {},
   "outputs": [],
   "source": [
    "B_peak_mask = (energy_B >= 2101.)& (energy_B <= 2105.)\n",
    "Bleft_base_mask = (energy_B > 2016.)& (energy_B < 2101.)\n",
    "Bright_base_mask = (energy_B > 2105.)& (energy_B < 2110.)"
   ]
  },
  {
   "cell_type": "code",
   "execution_count": 54,
   "metadata": {},
   "outputs": [],
   "source": [
    "tau = ( 2105. - 2101.)/ ((2101. - 2016. )+ (2110. - 2105))"
   ]
  },
  {
   "cell_type": "code",
   "execution_count": 65,
   "metadata": {},
   "outputs": [],
   "source": [
    "eff_B = ( len(cut_energy_B[B_peak_mask_cut]) - \\\n",
    "         tau*len(cut_energy_B[Bleft_base_mask_cut | Bright_base_mask_cut]) ) / \\\n",
    "            (len(energy_B[B_peak_mask]) - tau* len( energy_B[Bleft_base_mask | Bright_base_mask ]))\n"
   ]
  },
  {
   "cell_type": "code",
   "execution_count": 66,
   "metadata": {},
   "outputs": [
    {
     "name": "stdout",
     "output_type": "stream",
     "text": [
      "The true positive rate with the classification score 0.15  is 7.8%\n"
     ]
    }
   ],
   "source": [
    "print(f'The true positive rate with the classification score {0.15}  is {np.round(eff_B,3)*100}%')"
   ]
  },
  {
   "cell_type": "markdown",
   "metadata": {},
   "source": [
    "# Step 4"
   ]
  },
  {
   "cell_type": "code",
   "execution_count": 107,
   "metadata": {},
   "outputs": [],
   "source": [
    "def NLDBDpdf(E_min, E_max, n_bins, E_0, sigma, thetaNLDBD):\n",
    "    # Implement your code below\n",
    "    E_bins = np.linspace(E_min, E_max, n_bins + 1)\n",
    "    E_centers = (E_bins[:-1] + E_bins[1:]) / 2  # Bin centers\n",
    "    bin_width = E_bins[1] - E_bins[0]  # Width of each bin\n",
    "    \n",
    "    pdf = thetaNLDBD * bin_width * (1 / (sigma * np.sqrt(2 * np.pi))) * np.exp(-((E_centers - E_0) ** 2) / (2 * sigma**2))\n",
    "    #hist = np.histogram(data, bins=40)\n",
    "    signal_counts = S_E\n",
    "\n",
    "    energies = E_centers\n",
    "    #energies = (hist[1][1:]+hist[1][:-1])/2 #bin centers\n",
    "\n",
    "    return pdf"
   ]
  },
  {
   "cell_type": "code",
   "execution_count": 108,
   "metadata": {},
   "outputs": [],
   "source": [
    "def gaussian(E_min, E_max, n_bins, E_0, sigma, theta):\n",
    "\n",
    "    # Implement your code below\n",
    "    E_bins = np.linspace(E_min, E_max, n_bins + 1)\n",
    "    E_centers = (E_bins[:-1] + E_bins[1:]) / 2  # Bin centers\n",
    "    bin_width = E_bins[1] - E_bins[0]  # Width of each bin\n",
    "    \n",
    "    pdf = thetaA * bin_width * (1 / (sigma * np.sqrt(2 * np.pi))) * np.exp(-((E_centers - E_0) ** 2) / (2 * sigma**2))\n",
    "    counts = pdf\n",
    "\n",
    "    energies = E_centers\n",
    "\n",
    "    return pdf#, energies, counts"
   ]
  },
  {
   "cell_type": "code",
   "execution_count": 109,
   "metadata": {},
   "outputs": [],
   "source": [
    "def linear_bkg(E_min, E_max, n_bins, B, C):\n",
    "    # Implement your code below\n",
    "    E_bins = np.linspace(E_min, E_max, n_bins + 1)\n",
    "    E_centers = (E_bins[:-1] + E_bins[1:]) / 2  # Bin centers\n",
    "    bin_width = E_bins[1] - E_bins[0]  # Width of each bin\n",
    "    \n",
    "    pdf = B*E_centers + C\n",
    "\n",
    "    return pdf"
   ]
  },
  {
   "cell_type": "code",
   "execution_count": 110,
   "metadata": {},
   "outputs": [],
   "source": [
    "def bkg_exp(E_min, E_max, n_bins, F, D):\n",
    "    E_bins = np.linspace(E_min, E_max, n_bins + 1)\n",
    "    E_centers = (E_bins[:-1] + E_bins[1:]) / 2  # Bin centers\n",
    "    bin_width = E_bins[1] - E_bins[0]  # Width of each bin\n",
    "    \n",
    "    pdf = F*np.exp(-E_centers/D)*bin_width\n",
    "    return pdf"
   ]
  },
  {
   "cell_type": "code",
   "execution_count": 111,
   "metadata": {},
   "outputs": [],
   "source": [
    "sigmaA = np.sqrt(100.)\n",
    "sigmaB = np.sqrt(270.)\n",
    "sigmaC = 1\n",
    "nbins = 60\n",
    "SSpeak = 1592.\n",
    "MSpeak = 2103.\n",
    "NLDBDpeak = 2039.\n",
    "thetaA = 1350.\n",
    "thetaB = 770.\n",
    "sigmaNLDBD = 1\n",
    "Emin = np.min(data_Target.values[:,2])\n",
    "Emax = np.max(data_Target.values[:,2])\n",
    "SS_Emin = 1580\n",
    "SS_Emax = 1600\n",
    "MS_Emin = 2090\n",
    "MS_Emax = 2010\n",
    "NLDBDmin = 2030\n",
    "NLDBDmax = 2048\n",
    "Exp_Emin = 2400\n",
    "Exp_max = 2600\n",
    "def fullFit(A, B, thetaNLDBD, F, D, thetaC ):\n",
    "    fit = thetaC* ( linear_bkg(Emin, Emax, nbins, A, B) + gaussian(SS_Emin, SS_Emax, nbins, SSpeak, sigmaA, thetaA) + \\\n",
    "        gaussian(NLDBDmin, NLDBDmax, nbins, NLDBDpeak, sigmaNLDBD, thetaNLDBD) + \\\n",
    "            gaussian(MS_Emin, MS_Emax, nbins, MSpeak, sigmaB, thetaB) + bkg_exp(Exp_Emin, Exp_max, nbins, F, D) )\n",
    "    return fit \n",
    "\n"
   ]
  },
  {
   "cell_type": "code",
   "execution_count": 114,
   "metadata": {},
   "outputs": [
    {
     "data": {
      "text/plain": [
       "array([ 997.41210695, 1036.53806446, 1075.69909126, 1114.86503885,\n",
       "       1154.00796077, 1193.10261944, 1232.1268652 , 1271.06188461,\n",
       "       1309.89232078, 1348.60627436, 1387.19519926, 1425.65371636,\n",
       "       1463.97939466, 1502.17263783, 1540.23709158, 1578.18175102,\n",
       "       1616.0277158 , 1653.82584169, 1691.69591037, 1729.8998805 ,\n",
       "       1768.95277461, 1809.74347799, 1853.58186296, 1902.03472862,\n",
       "       1956.42512566, 2017.01549293, 2082.16384631, 2147.9773478 ,\n",
       "       2208.94324875, 2259.56882353, 2296.40858015, 2319.46520987,\n",
       "       2332.18964111, 2340.08019491, 2348.65547053, 2361.81449377,\n",
       "       2381.20583535, 2406.5740776 , 2436.60363002, 2469.73556074,\n",
       "       2504.66819876, 2540.52107696, 2576.78764389, 2613.21425376,\n",
       "       2649.68902258, 2686.16827802, 2722.63705481, 2759.09108156,\n",
       "       2795.52964914, 2831.95312629, 2868.36219111, 2904.75761787,\n",
       "       2941.1402226 , 2977.51084874, 3013.87036179, 3050.21964545,\n",
       "       3086.55959779, 3122.8911275 , 3159.21514989, 3195.53258291])"
      ]
     },
     "execution_count": 114,
     "metadata": {},
     "output_type": "execute_result"
    }
   ],
   "source": [
    "linear_bkg(Emin, Emax, nbins, A, B) + gaussian(SS_Emin, SS_Emax, nbins, SSpeak, sigmaA, thetaA) + \\\n",
    "gaussian(NLDBDmin, NLDBDmax, nbins, NLDBDpeak, sigmaNLDBD, thetaNLDBD) + gaussian(MS_Emin, MS_Emax, nbins, MSpeak, sigmaB, thetaB) +\\\n",
    "bkg_exp(Exp_Emin, Exp_max, nbins, F, D) \n",
    "\n"
   ]
  },
  {
   "cell_type": "code",
   "execution_count": 115,
   "metadata": {},
   "outputs": [
    {
     "data": {
      "text/plain": [
       "array([ 997.41210695, 1036.53806446, 1075.69909126, 1114.86503885,\n",
       "       1154.00796077, 1193.10261944, 1232.1268652 , 1271.06188461,\n",
       "       1309.89232078, 1348.60627436, 1387.19519926, 1425.65371636,\n",
       "       1463.97939466, 1502.17263783, 1540.23709158, 1578.18175102,\n",
       "       1616.0277158 , 1653.82584169, 1691.69591037, 1729.8998805 ,\n",
       "       1768.95277461, 1809.74347799, 1853.58186296, 1902.03472862,\n",
       "       1956.42512566, 2017.01549293, 2082.16384631, 2147.9773478 ,\n",
       "       2208.94324875, 2259.56882353, 2296.40858015, 2319.46520987,\n",
       "       2332.18964111, 2340.08019491, 2348.65547053, 2361.81449377,\n",
       "       2381.20583535, 2406.5740776 , 2436.60363002, 2469.73556074,\n",
       "       2504.66819876, 2540.52107696, 2576.78764389, 2613.21425376,\n",
       "       2649.68902258, 2686.16827802, 2722.63705481, 2759.09108156,\n",
       "       2795.52964914, 2831.95312629, 2868.36219111, 2904.75761787,\n",
       "       2941.1402226 , 2977.51084874, 3013.87036179, 3050.21964545,\n",
       "       3086.55959779, 3122.8911275 , 3159.21514989, 3195.53258291])"
      ]
     },
     "execution_count": 115,
     "metadata": {},
     "output_type": "execute_result"
    }
   ],
   "source": [
    "A = 1\n",
    "B = 1\n",
    "thetaNLDBD = 1\n",
    "F = 1\n",
    "D = 1\n",
    "thetaC = 1\n",
    "fullFit(A, B, thetaNLDBD, F, D, thetaC )"
   ]
  },
  {
   "cell_type": "markdown",
   "metadata": {},
   "source": [
    "# Step 5"
   ]
  },
  {
   "cell_type": "markdown",
   "metadata": {},
   "source": [
    "Apply cut, then generate PDF of detectors A, B, and C and DetectorTarget histogram."
   ]
  },
  {
   "cell_type": "code",
   "execution_count": 76,
   "metadata": {},
   "outputs": [],
   "source": [
    "cut_thresh = 0.15"
   ]
  },
  {
   "cell_type": "code",
   "execution_count": 77,
   "metadata": {},
   "outputs": [],
   "source": [
    "data_A_with_cut = data_A.loc[(data_A['cnn_score']>cut_thresh)]\n",
    "data_B_with_cut = data_B.loc[(data_B['cnn_score']>cut_thresh)]\n",
    "data_C_with_cut = data_C.loc[(data_C['cnn_score']>cut_thresh)]\n",
    "data_Target_with_cut = data_Target.loc[(data_B['cnn_score']>cut_thresh)]"
   ]
  },
  {
   "cell_type": "markdown",
   "metadata": {
    "jp-MarkdownHeadingCollapsed": true
   },
   "source": [
    "## Plots"
   ]
  },
  {
   "cell_type": "code",
   "execution_count": 78,
   "metadata": {},
   "outputs": [
    {
     "data": {
      "image/png": "[encoded data removed]",
      "text/plain": [
       "<Figure size 640x480 with 1 Axes>"
      ]
     },
     "metadata": {},
     "output_type": "display_data"
    }
   ],
   "source": [
    "plt.figure()\n",
    "ax = data_A['energy'].plot(\n",
    "    kind='hist', \n",
    "    title='Detector A Energy Spectrum', \n",
    "    bins=100, \n",
    "    logy=True, \n",
    "    histtype='step',\n",
    "    label='before cut',\n",
    "    xlabel=\"Energy [keV]\",\n",
    "    color=\"black\"\n",
    ")\n",
    "\n",
    "data_A_with_cut['energy'].plot(\n",
    "    kind='hist', \n",
    "    ax=ax, \n",
    "    bins=100, \n",
    "    histtype='step',\n",
    "    logy=True, \n",
    "    label='after cut',\n",
    "    xlabel=\"Energy [keV]\",\n",
    "    color=\"magenta\"\n",
    ")\n",
    "\n",
    "plt.legend()\n",
    "plt.show()\n"
   ]
  },
  {
   "cell_type": "code",
   "execution_count": 79,
   "metadata": {},
   "outputs": [
    {
     "data": {
      "image/png": "[encoded data removed]",
      "text/plain": [
       "<Figure size 640x480 with 1 Axes>"
      ]
     },
     "metadata": {},
     "output_type": "display_data"
    }
   ],
   "source": [
    "plt.figure()\n",
    "ax = data_B['energy'].plot(\n",
    "    kind='hist', \n",
    "    title='Detector B Energy Spectrum', \n",
    "    bins=100, \n",
    "    logy=True, \n",
    "    histtype='step',\n",
    "    label='before cut',\n",
    "    xlabel=\"Energy [keV]\",\n",
    "    color=\"black\"\n",
    ")\n",
    "\n",
    "data_B_with_cut['energy'].plot(\n",
    "    kind='hist', \n",
    "    ax=ax, \n",
    "    bins=100, \n",
    "    histtype='step',\n",
    "    logy=True, \n",
    "    label='after cut',\n",
    "    xlabel=\"Energy [keV]\",\n",
    "    color=\"magenta\"\n",
    ")\n",
    "\n",
    "plt.legend()\n",
    "plt.show()"
   ]
  },
  {
   "cell_type": "code",
   "execution_count": 80,
   "metadata": {},
   "outputs": [
    {
     "data": {
      "image/png": "[encoded data removed]",
      "text/plain": [
       "<Figure size 640x480 with 1 Axes>"
      ]
     },
     "metadata": {},
     "output_type": "display_data"
    }
   ],
   "source": [
    "plt.figure()\n",
    "ax = data_C['energy'].plot(\n",
    "    kind='hist', \n",
    "    title='Detector C Energy Spectrum', \n",
    "    bins=100, \n",
    "    logy=True, \n",
    "    histtype='step',\n",
    "    label='before cut',\n",
    "    xlabel=\"Energy [keV]\",\n",
    "    color=\"black\"\n",
    ")\n",
    "\n",
    "data_C_with_cut['energy'].plot(\n",
    "    kind='hist', \n",
    "    ax=ax, \n",
    "    bins=100, \n",
    "    histtype='step',\n",
    "    logy=True, \n",
    "    label='after cut',\n",
    "    xlabel=\"Energy [keV]\",\n",
    "    color=\"magenta\"\n",
    ")\n",
    "\n",
    "plt.legend()\n",
    "plt.show()"
   ]
  },
  {
   "cell_type": "code",
   "execution_count": null,
   "metadata": {},
   "outputs": [],
   "source": []
  },
  {
   "cell_type": "code",
   "execution_count": null,
   "metadata": {},
   "outputs": [],
   "source": []
  },
  {
   "cell_type": "markdown",
   "metadata": {},
   "source": [
    "# Step 6"
   ]
  },
  {
   "cell_type": "code",
   "execution_count": 117,
   "metadata": {},
   "outputs": [
    {
     "ename": "ModuleNotFoundError",
     "evalue": "No module named 'iminuit'",
     "output_type": "error",
     "traceback": [
      "\u001b[0;31m---------------------------------------------------------------------------\u001b[0m",
      "\u001b[0;31mModuleNotFoundError\u001b[0m                       Traceback (most recent call last)",
      "Cell \u001b[0;32mIn[117], line 1\u001b[0m\n\u001b[0;32m----> 1\u001b[0m \u001b[38;5;28;01mimport\u001b[39;00m \u001b[38;5;21;01miminuit\u001b[39;00m\n",
      "\u001b[0;31mModuleNotFoundError\u001b[0m: No module named 'iminuit'"
     ]
    }
   ],
   "source": [
    "import iminuit"
   ]
  },
  {
   "cell_type": "code",
   "execution_count": null,
   "metadata": {},
   "outputs": [],
   "source": []
  },
  {
   "cell_type": "code",
   "execution_count": null,
   "metadata": {},
   "outputs": [],
   "source": []
  },
  {
   "cell_type": "code",
   "execution_count": null,
   "metadata": {},
   "outputs": [],
   "source": []
  },
  {
   "cell_type": "code",
   "execution_count": 13,
   "metadata": {},
   "outputs": [
    {
     "data": {
      "text/plain": [
       "array([[<Axes: title={'center': 'energy'}>]], dtype=object)"
      ]
     },
     "execution_count": 13,
     "metadata": {},
     "output_type": "execute_result"
    },
    {
     "data": {
      "image/png": "[encoded data removed]",
      "text/plain": [
       "<Figure size 640x480 with 1 Axes>"
      ]
     },
     "metadata": {},
     "output_type": "display_data"
    }
   ],
   "source": [
    "data_C.hist(column=\"energy\", bins=100)"
   ]
  },
  {
   "cell_type": "code",
   "execution_count": 12,
   "metadata": {},
   "outputs": [
    {
     "data": {
      "text/plain": [
       "array([[<Axes: title={'center': 'energy'}>]], dtype=object)"
      ]
     },
     "execution_count": 12,
     "metadata": {},
     "output_type": "execute_result"
    },
    {
     "data": {
      "image/png": "[encoded data removed]",
      "text/plain": [
       "<Figure size 640x480 with 1 Axes>"
      ]
     },
     "metadata": {},
     "output_type": "display_data"
    }
   ],
   "source": [
    "data_Target.hist(column=\"energy\", bins=100)"
   ]
  },
  {
   "cell_type": "code",
   "execution_count": null,
   "metadata": {},
   "outputs": [],
   "source": []
  }
 ],
 "metadata": {
  "kernelspec": {
   "display_name": "Python 3 (ipykernel)",
   "language": "python",
   "name": "python3"
  },
  "language_info": {
   "codemirror_mode": {
    "name": "ipython",
    "version": 3
   },
   "file_extension": ".py",
   "mimetype": "text/x-python",
   "name": "python",
   "nbconvert_exporter": "python",
   "pygments_lexer": "ipython3",
   "version": "3.11.9"
  }
 },
 "nbformat": 4,
 "nbformat_minor": 4
}
