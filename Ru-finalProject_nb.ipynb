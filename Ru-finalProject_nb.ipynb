{
 "cells": [
  {
   "cell_type": "code",
   "execution_count": 3,
   "metadata": {},
   "outputs": [],
   "source": [
    "import matplotlib.pyplot as plt\n",
    "import numpy as np\n",
    "import pandas as pd"
   ]
  },
  {
   "cell_type": "markdown",
   "metadata": {},
   "source": [
    "# Step 1"
   ]
  },
  {
   "cell_type": "code",
   "execution_count": 4,
   "metadata": {},
   "outputs": [],
   "source": [
    "data_A = pd.read_csv(\"Final_Project/datasets/DetectorA.csv\")\n",
    "data_B = pd.read_csv(\"Final_Project/datasets/DetectorB.csv\")\n",
    "data_C = pd.read_csv(\"Final_Project/datasets/DetectorC.csv\")\n",
    "data_Target = pd.read_csv(\"Final_Project/datasets/DetectorTarget.csv\")\n"
   ]
  },
  {
   "cell_type": "markdown",
   "metadata": {},
   "source": [
    "# Step 2"
   ]
  },
  {
   "cell_type": "code",
   "execution_count": 5,
   "metadata": {},
   "outputs": [
    {
     "data": {
      "text/plain": [
       "Index(['id', 'cnn_score', 'energy'], dtype='object')"
      ]
     },
     "execution_count": 5,
     "metadata": {},
     "output_type": "execute_result"
    }
   ],
   "source": [
    "data_A.keys()"
   ]
  },
  {
   "cell_type": "code",
   "execution_count": 6,
   "metadata": {},
   "outputs": [],
   "source": [
    "energy_A = data_A.values[:, 2]"
   ]
  },
  {
   "cell_type": "code",
   "execution_count": 7,
   "metadata": {},
   "outputs": [],
   "source": [
    "cut_energy_A = energy_A[data_A.values[:,1]>0.10]"
   ]
  },
  {
   "cell_type": "code",
   "execution_count": 74,
   "metadata": {},
   "outputs": [
    {
     "data": {
      "image/png": "[encoded data removed]",
      "text/plain": [
       "<Figure size 640x480 with 1 Axes>"
      ]
     },
     "metadata": {},
     "output_type": "display_data"
    }
   ],
   "source": [
    "total_SS_counts, total_SS_bins, total_SS_width = plt.hist(energy_A, bins=60, log=\"log\")\n",
    "SS_counts, SS_bins, SS_bwidth =plt.hist(cut_energy_A, bins=60, log=\"log\")\n",
    "\n"
   ]
  },
  {
   "cell_type": "code",
   "execution_count": 75,
   "metadata": {},
   "outputs": [],
   "source": [
    "peak_mask_cut = (SS_bins >= 1590.)& (SS_bins <= 1595.)\n",
    "base_mask_cut = (SS_bins > 1545.)& (SS_bins < 1590.)"
   ]
  },
  {
   "cell_type": "code",
   "execution_count": 76,
   "metadata": {},
   "outputs": [],
   "source": [
    "peak_mask = (total_SS_bins >= 1590.)& (total_SS_bins <= 1595.)\n",
    "base_mask = (total_SS_bins > 1545.)& (total_SS_bins < 1590.)"
   ]
  },
  {
   "cell_type": "code",
   "execution_count": 77,
   "metadata": {},
   "outputs": [],
   "source": [
    "tau = (1595. - 1590.)/(1590. - 1545.)"
   ]
  },
  {
   "cell_type": "code",
   "execution_count": 80,
   "metadata": {},
   "outputs": [],
   "source": [
    "eff = ( np.sum(SS_counts[peak_mask_cut[1:]]) - tau*np.sum(SS_counts[base_mask_cut[1:]])  )/ \\\n",
    "        (np.sum(total_SS_counts[peak_mask[1:]]) - tau*np.sum(total_SS_counts[base_mask[1:]]))\n",
    "            "
   ]
  },
  {
   "cell_type": "code",
   "execution_count": 81,
   "metadata": {},
   "outputs": [
    {
     "name": "stdout",
     "output_type": "stream",
     "text": [
      "The true positive rate with the classification score 0.1  is 69.8%\n"
     ]
    }
   ],
   "source": [
    "print(f'The true positive rate with the classification score {0.10}  is {np.round(eff,3)*100}%')"
   ]
  },
  {
   "cell_type": "markdown",
   "metadata": {},
   "source": [
    "# Step 3"
   ]
  },
  {
   "cell_type": "code",
   "execution_count": 14,
   "metadata": {},
   "outputs": [
    {
     "data": {
      "text/plain": [
       "Index(['id', 'cnn_score', 'energy'], dtype='object')"
      ]
     },
     "execution_count": 14,
     "metadata": {},
     "output_type": "execute_result"
    }
   ],
   "source": [
    "data_B.keys()"
   ]
  },
  {
   "cell_type": "code",
   "execution_count": 18,
   "metadata": {},
   "outputs": [],
   "source": [
    "energy_B = data_B.values[:, 2]"
   ]
  },
  {
   "cell_type": "code",
   "execution_count": 35,
   "metadata": {},
   "outputs": [],
   "source": [
    "cut_energy_B = energy_B[data_B.values[:,1]< 0.05]"
   ]
  },
  {
   "cell_type": "code",
   "execution_count": 51,
   "metadata": {},
   "outputs": [
    {
     "data": {
      "image/png": "[encoded data removed]",
      "text/plain": [
       "<Figure size 640x480 with 1 Axes>"
      ]
     },
     "metadata": {},
     "output_type": "display_data"
    }
   ],
   "source": [
    "total_MS_counts, total_MS_bins, total_MS_width = plt.hist(energy_B, bins=100, log=\"log\")\n",
    "MS_counts, MS_bins, MS_bwidth =plt.hist(cut_energy_B, bins=100, log=\"log\")"
   ]
  },
  {
   "cell_type": "code",
   "execution_count": 58,
   "metadata": {},
   "outputs": [],
   "source": [
    "MS_peak_mask_cut = (MS_bins >= 2060.)& (MS_bins <= 2120.)\n",
    "left_MS_base_mask_cut = (MS_bins > 2015.)& (MS_bins < 2100.)\n",
    "right_MS_base_mask_cut = (MS_bins > 2105.)& (MS_bins < 2115.)"
   ]
  },
  {
   "cell_type": "code",
   "execution_count": 94,
   "metadata": {},
   "outputs": [],
   "source": [
    "total_MS_peak_mask = (total_MS_bins >= 2060.)& (total_MS_bins <= 2120.)\n",
    "total_left_MS_base_mask = (total_MS_bins > 2015.) & (total_MS_bins < 2100.)\n",
    "total_right_MS_base_mask = (total_MS_bins > 2105.)& (total_MS_bins < 2115.)"
   ]
  },
  {
   "cell_type": "code",
   "execution_count": 95,
   "metadata": {},
   "outputs": [],
   "source": [
    "tau = (2060. - 2120.)/ ((2100. - 2015.)+ (2115. - 2105))"
   ]
  },
  {
   "cell_type": "code",
   "execution_count": 96,
   "metadata": {},
   "outputs": [],
   "source": [
    "eff_B = ( np.sum(MS_counts[MS_peak_mask_cut[1:]]) - \\\n",
    "         tau* np.sum(MS_counts[left_MS_base_mask_cut[1:]|right_MS_base_mask_cut[1:]])  )/ \\\n",
    "        (np.sum(total_MS_counts[total_MS_peak_mask[1:]]) - \\\n",
    "         tau* np.sum(total_MS_counts[total_left_MS_base_mask[1:]|total_right_MS_base_mask[1:]]))"
   ]
  },
  {
   "cell_type": "code",
   "execution_count": 98,
   "metadata": {},
   "outputs": [
    {
     "name": "stdout",
     "output_type": "stream",
     "text": [
      "The true positive rate with the classification score 0.05  is 42.0%\n"
     ]
    }
   ],
   "source": [
    "print(f'The true positive rate with the classification score {0.05}  is {np.round(eff_B,3)*100}%')"
   ]
  },
  {
   "cell_type": "markdown",
   "metadata": {},
   "source": [
    "# Step 4"
   ]
  },
  {
   "cell_type": "code",
   "execution_count": 13,
   "metadata": {},
   "outputs": [
    {
     "data": {
      "text/plain": [
       "array([[<Axes: title={'center': 'energy'}>]], dtype=object)"
      ]
     },
     "execution_count": 13,
     "metadata": {},
     "output_type": "execute_result"
    },
    {
     "data": {
      "image/png": "[encoded data removed]",
      "text/plain": [
       "<Figure size 640x480 with 1 Axes>"
      ]
     },
     "metadata": {},
     "output_type": "display_data"
    }
   ],
   "source": [
    "data_C.hist(column=\"energy\", bins=100)"
   ]
  },
  {
   "cell_type": "code",
   "execution_count": 12,
   "metadata": {},
   "outputs": [
    {
     "data": {
      "text/plain": [
       "array([[<Axes: title={'center': 'energy'}>]], dtype=object)"
      ]
     },
     "execution_count": 12,
     "metadata": {},
     "output_type": "execute_result"
    },
    {
     "data": {
      "image/png": "[encoded data removed]",
      "text/plain": [
       "<Figure size 640x480 with 1 Axes>"
      ]
     },
     "metadata": {},
     "output_type": "display_data"
    }
   ],
   "source": [
    "data_Target.hist(column=\"energy\", bins=100)"
   ]
  },
  {
   "cell_type": "code",
   "execution_count": null,
   "metadata": {},
   "outputs": [],
   "source": []
  }
 ],
 "metadata": {
  "kernelspec": {
   "display_name": "Python 3 (ipykernel)",
   "language": "python",
   "name": "python3"
  },
  "language_info": {
   "codemirror_mode": {
    "name": "ipython",
    "version": 3
   },
   "file_extension": ".py",
   "mimetype": "text/x-python",
   "name": "python",
   "nbconvert_exporter": "python",
   "pygments_lexer": "ipython3",
   "version": "3.11.9"
  }
 },
 "nbformat": 4,
 "nbformat_minor": 4
}
